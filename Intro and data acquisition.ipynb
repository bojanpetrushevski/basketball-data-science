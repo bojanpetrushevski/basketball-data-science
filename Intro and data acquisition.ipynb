{
  "nbformat": 4,
  "nbformat_minor": 0,
  "metadata": {
    "colab": {
      "name": "Basketball data science.ipynb",
      "provenance": [],
      "mount_file_id": "1IdKZopEFej4h3h5zJWmwfkTlnlC1TZrg",
      "authorship_tag": "ABX9TyPcmAdegX7+U6tBim8cRkfz",
      "include_colab_link": true
    },
    "kernelspec": {
      "name": "python3",
      "display_name": "Python 3"
    }
  },
  "cells": [
    {
      "cell_type": "markdown",
      "metadata": {
        "id": "view-in-github",
        "colab_type": "text"
      },
      "source": [
        "<a href=\"https://colab.research.google.com/github/bojanpetrushevski/basketball-data-science/blob/master/Intro%20and%20data%20acquisition.ipynb\" target=\"_parent\"><img src=\"https://colab.research.google.com/assets/colab-badge.svg\" alt=\"Open In Colab\"/></a>"
      ]
    },
    {
      "cell_type": "markdown",
      "metadata": {
        "id": "xsI29OuHXzVD",
        "colab_type": "text"
      },
      "source": [
        "# **Basketball data science**\n",
        "---\n",
        "As data science has contributed in other fields of life, it can also improve and enrich the quality of perspective that basketball strategists have on the game of basketball. This project's focus would be analysing data for [NBA](https://en.wikipedia.org/wiki/National_Basketball_Association) basketball players who played in the past couple of years. Since today's NBA is far more different than decades ago, there are many unpredictive facts that a naked eye cannot notice. There is where data science can come in handy. My idea is that we can analyze a dataset in order to accomplish prediction of some useful information about the players. \n",
        "\n",
        "\n",
        "For instance, I am planning to predict the win shares (player statistic which attempts to divvy up credit for team success to the individuals on the team, per [Basketball Reference](https://www.basketball-reference.com/about/ws.html)) which a single player has according to his statistics during some previous season. This could be predicted using other given statistic information about the player as the number of shots he takes in a game, the shooting percentage, the points percentage of a player, etc... This information could be useful to office executives of every NBA team such as general managers, scouts, risk managers, assitant managers and other front office staff so they can see the big picture of what players are cruicial for what teams and even more important - if they expect from a player to perform with certain statistic next season, how much it will really contribute on a team level. Technically spoken, this output should can be continious so I could use some of the following techniques: linear regression, support vector regression, k-nearest-neighbors, decision tree regression. I will try to train a model using more of them a compare the results to see which algorithm is the most accurate for this kind of problem.\n",
        "\n",
        "\n",
        "Another idea that I have is that I can predict player position based on his other statistics as well since an NBA player can behave as a playmaker even though in reality his [original position](https://www.myactivesg.com/Sports/Basketball/How-To-Play/Basketball-Rules/Basketball-Positions-and-Roles) is a forward or maybe even center. Again, this kind of analysis could help the front offices of NBA teams to determine what kind of players (position-wise) they really have and what position holes need to be filled in a certain NBA teams. Since this output would be categorical, I thought of using some techniques like neural networks, decision trees classification, rule-based classification, etc...\n",
        "\n",
        "In general, my point would be to try as many techniques as my time and resources would allow me from the ones that I was introduced during the Data Mining course. It will be interesting to analyze the final results that different algorithms will produce on the same dataset.\n"
      ]
    },
    {
      "cell_type": "markdown",
      "metadata": {
        "id": "n5HofDLmmhdf",
        "colab_type": "text"
      },
      "source": [
        "Firstly, we need to do some data aquisition in order to create our own datasets. For that purpose, I will be using the BeautifulSoup package to achieve successfull data scrapping."
      ]
    },
    {
      "cell_type": "code",
      "metadata": {
        "id": "AWgZlkYol8EG",
        "colab_type": "code",
        "colab": {
          "base_uri": "https://localhost:8080/",
          "height": 440
        },
        "outputId": "2b86bdd5-bf0a-439a-fdae-9e417bf1eaa3"
      },
      "source": [
        "from urllib.request import urlopen\n",
        "from bs4 import BeautifulSoup\n",
        "import pandas as pd\n",
        "from enum import Enum\n",
        "# enum for different type of basketbal players statistics\n",
        "DATA_TYPE = Enum('DATA_TYPE', 'per_game advanced')\n",
        "\n",
        "# function to merge two pandas dataframes\n",
        "def merge_dataframes(df1, df2, on, how):\n",
        "  return pd.merge(per_game_stats, advanced_stats, on=on, how=how)\n",
        "\n",
        "# function to concat two pandas dataframes\n",
        "def concat_dataframes(df1, df2):\n",
        "  return pd.concat([df1, df2], ignore_index=True)\n",
        "\n",
        "# class to scrap basketball data from BasketballReference\n",
        "class BasketballReferenceScrapper:\n",
        "    def __init__(self, url):  \n",
        "        self.url = url\n",
        "\n",
        "    def scrap_data(self, year, data_type):\n",
        "        # replace the placeholders in url with the year and data_type\n",
        "        url_to_open = self.url.format(year, data_type)      \n",
        "        print(url_to_open)\n",
        "        html = urlopen(url_to_open)\n",
        "        soup = BeautifulSoup(html)\n",
        "        soup.findAll('tr', limit=2)\n",
        "        # use getText()to extract the text we need into a list\n",
        "        headers = [th.getText() for th in soup.findAll('tr', limit=2)[0].findAll('th')]\n",
        "        # exclude the first column as we will not need the ranking order from Basketball Reference for the analysis\n",
        "        headers = headers[1:]\n",
        "        print(headers)\n",
        "\n",
        "        # get all rows which are actually data and use 'full-table' class to avoid headers\n",
        "        rows = soup.findAll('tr', {'class': 'full_table'})\n",
        "        player_stats = [[td.getText() for td in rows[i].findAll('td')]\n",
        "                    for i in range(len(rows))]\n",
        "\n",
        "        return pd.DataFrame(player_stats, columns = headers)\n",
        "\n",
        "#creating an instance of the class with the url of the website\n",
        "scrapper = BasketballReferenceScrapper('https://www.basketball-reference.com/leagues/NBA_{0}_{1}.html')\n",
        "\n",
        "#static array we the years we will analyze\n",
        "years = ['2015', '2016', '2017', '2018', '2019', '2020']\n",
        "\n",
        "data = None\n",
        "\n",
        "# iterate through the years and scrap data for each one\n",
        "for year in years:\n",
        "  # scrap data for basic per game stats\n",
        "  per_game_stats = scrapper.scrap_data(year, DATA_TYPE.per_game.name)\n",
        "  # scrap data for advanced stats\n",
        "  advanced_stats = scrapper.scrap_data(year, DATA_TYPE.advanced.name)\n",
        "  # combine both data frames into one using the previously declared function\n",
        "  combined_stats = merge_dataframes(per_game_stats, advanced_stats, ['Player', 'Pos', 'Age', 'Tm', 'G'], 'inner')\n",
        "  # rename some columns \n",
        "  combined_stats.rename(columns={'MP_x': 'MPG', 'MP_y': 'MPT'}, inplace=True)\n",
        "  # append the current year as a column to every row in the dataset\n",
        "  combined_stats['END_YEAR'] = year\n",
        "  # if this is the first item from the list, assign the variable; otherwise append it to the current dataframe\n",
        "  if data is None:\n",
        "    data = combined_stats\n",
        "  else:\n",
        "    data = concat_dataframes(data, combined_stats)\n",
        "\n",
        "#drop empty columns\n",
        "data = data.drop(['\\xa0'], axis = 1)\n",
        "\n"
      ],
      "execution_count": 6,
      "outputs": [
        {
          "output_type": "stream",
          "text": [
            "https://www.basketball-reference.com/leagues/NBA_2015_per_game.html\n",
            "['Player', 'Pos', 'Age', 'Tm', 'G', 'GS', 'MP', 'FG', 'FGA', 'FG%', '3P', '3PA', '3P%', '2P', '2PA', '2P%', 'eFG%', 'FT', 'FTA', 'FT%', 'ORB', 'DRB', 'TRB', 'AST', 'STL', 'BLK', 'TOV', 'PF', 'PTS']\n",
            "https://www.basketball-reference.com/leagues/NBA_2015_advanced.html\n",
            "['Player', 'Pos', 'Age', 'Tm', 'G', 'MP', 'PER', 'TS%', '3PAr', 'FTr', 'ORB%', 'DRB%', 'TRB%', 'AST%', 'STL%', 'BLK%', 'TOV%', 'USG%', '\\xa0', 'OWS', 'DWS', 'WS', 'WS/48', '\\xa0', 'OBPM', 'DBPM', 'BPM', 'VORP']\n",
            "https://www.basketball-reference.com/leagues/NBA_2016_per_game.html\n",
            "['Player', 'Pos', 'Age', 'Tm', 'G', 'GS', 'MP', 'FG', 'FGA', 'FG%', '3P', '3PA', '3P%', '2P', '2PA', '2P%', 'eFG%', 'FT', 'FTA', 'FT%', 'ORB', 'DRB', 'TRB', 'AST', 'STL', 'BLK', 'TOV', 'PF', 'PTS']\n",
            "https://www.basketball-reference.com/leagues/NBA_2016_advanced.html\n",
            "['Player', 'Pos', 'Age', 'Tm', 'G', 'MP', 'PER', 'TS%', '3PAr', 'FTr', 'ORB%', 'DRB%', 'TRB%', 'AST%', 'STL%', 'BLK%', 'TOV%', 'USG%', '\\xa0', 'OWS', 'DWS', 'WS', 'WS/48', '\\xa0', 'OBPM', 'DBPM', 'BPM', 'VORP']\n",
            "https://www.basketball-reference.com/leagues/NBA_2017_per_game.html\n",
            "['Player', 'Pos', 'Age', 'Tm', 'G', 'GS', 'MP', 'FG', 'FGA', 'FG%', '3P', '3PA', '3P%', '2P', '2PA', '2P%', 'eFG%', 'FT', 'FTA', 'FT%', 'ORB', 'DRB', 'TRB', 'AST', 'STL', 'BLK', 'TOV', 'PF', 'PTS']\n",
            "https://www.basketball-reference.com/leagues/NBA_2017_advanced.html\n",
            "['Player', 'Pos', 'Age', 'Tm', 'G', 'MP', 'PER', 'TS%', '3PAr', 'FTr', 'ORB%', 'DRB%', 'TRB%', 'AST%', 'STL%', 'BLK%', 'TOV%', 'USG%', '\\xa0', 'OWS', 'DWS', 'WS', 'WS/48', '\\xa0', 'OBPM', 'DBPM', 'BPM', 'VORP']\n",
            "https://www.basketball-reference.com/leagues/NBA_2018_per_game.html\n",
            "['Player', 'Pos', 'Age', 'Tm', 'G', 'GS', 'MP', 'FG', 'FGA', 'FG%', '3P', '3PA', '3P%', '2P', '2PA', '2P%', 'eFG%', 'FT', 'FTA', 'FT%', 'ORB', 'DRB', 'TRB', 'AST', 'STL', 'BLK', 'TOV', 'PF', 'PTS']\n",
            "https://www.basketball-reference.com/leagues/NBA_2018_advanced.html\n",
            "['Player', 'Pos', 'Age', 'Tm', 'G', 'MP', 'PER', 'TS%', '3PAr', 'FTr', 'ORB%', 'DRB%', 'TRB%', 'AST%', 'STL%', 'BLK%', 'TOV%', 'USG%', '\\xa0', 'OWS', 'DWS', 'WS', 'WS/48', '\\xa0', 'OBPM', 'DBPM', 'BPM', 'VORP']\n",
            "https://www.basketball-reference.com/leagues/NBA_2019_per_game.html\n",
            "['Player', 'Pos', 'Age', 'Tm', 'G', 'GS', 'MP', 'FG', 'FGA', 'FG%', '3P', '3PA', '3P%', '2P', '2PA', '2P%', 'eFG%', 'FT', 'FTA', 'FT%', 'ORB', 'DRB', 'TRB', 'AST', 'STL', 'BLK', 'TOV', 'PF', 'PTS']\n",
            "https://www.basketball-reference.com/leagues/NBA_2019_advanced.html\n",
            "['Player', 'Pos', 'Age', 'Tm', 'G', 'MP', 'PER', 'TS%', '3PAr', 'FTr', 'ORB%', 'DRB%', 'TRB%', 'AST%', 'STL%', 'BLK%', 'TOV%', 'USG%', '\\xa0', 'OWS', 'DWS', 'WS', 'WS/48', '\\xa0', 'OBPM', 'DBPM', 'BPM', 'VORP']\n",
            "https://www.basketball-reference.com/leagues/NBA_2020_per_game.html\n",
            "['Player', 'Pos', 'Age', 'Tm', 'G', 'GS', 'MP', 'FG', 'FGA', 'FG%', '3P', '3PA', '3P%', '2P', '2PA', '2P%', 'eFG%', 'FT', 'FTA', 'FT%', 'ORB', 'DRB', 'TRB', 'AST', 'STL', 'BLK', 'TOV', 'PF', 'PTS']\n",
            "https://www.basketball-reference.com/leagues/NBA_2020_advanced.html\n",
            "['Player', 'Pos', 'Age', 'Tm', 'G', 'MP', 'PER', 'TS%', '3PAr', 'FTr', 'ORB%', 'DRB%', 'TRB%', 'AST%', 'STL%', 'BLK%', 'TOV%', 'USG%', '\\xa0', 'OWS', 'DWS', 'WS', 'WS/48', '\\xa0', 'OBPM', 'DBPM', 'BPM', 'VORP']\n"
          ],
          "name": "stdout"
        }
      ]
    },
    {
      "cell_type": "markdown",
      "metadata": {
        "id": "6O3D7W_5vyoh",
        "colab_type": "text"
      },
      "source": [
        ""
      ]
    },
    {
      "cell_type": "markdown",
      "metadata": {
        "id": "xd7dJhc-XxkZ",
        "colab_type": "text"
      },
      "source": [
        "As you have noticed, we have used BasketballReference webiste (the most popular website to access basketball data). Next, we will see the info in the dataset which contains data for all players in the period 2015 - 2020. Also, we will export the dataset to csv file."
      ]
    },
    {
      "cell_type": "code",
      "metadata": {
        "id": "cdb2dSJ0FJZT",
        "colab_type": "code",
        "colab": {
          "base_uri": "https://localhost:8080/",
          "height": 991
        },
        "outputId": "918b0648-778f-47e9-ea1b-3a38b26e2eff"
      },
      "source": [
        "data.info()\n",
        "\n",
        "data.to_csv('/content/drive/My Drive/nba_players_dataset.csv', encoding='utf-8')"
      ],
      "execution_count": 5,
      "outputs": [
        {
          "output_type": "stream",
          "text": [
            "<class 'pandas.core.frame.DataFrame'>\n",
            "RangeIndex: 3038 entries, 0 to 3037\n",
            "Data columns (total 51 columns):\n",
            " #   Column    Non-Null Count  Dtype \n",
            "---  ------    --------------  ----- \n",
            " 0   Player    3038 non-null   object\n",
            " 1   Pos       3038 non-null   object\n",
            " 2   Age       3038 non-null   object\n",
            " 3   Tm        3038 non-null   object\n",
            " 4   G         3038 non-null   object\n",
            " 5   GS        3038 non-null   object\n",
            " 6   MPG       3038 non-null   object\n",
            " 7   FG        3038 non-null   object\n",
            " 8   FGA       3038 non-null   object\n",
            " 9   FG%       3038 non-null   object\n",
            " 10  3P        3038 non-null   object\n",
            " 11  3PA       3038 non-null   object\n",
            " 12  3P%       3038 non-null   object\n",
            " 13  2P        3038 non-null   object\n",
            " 14  2PA       3038 non-null   object\n",
            " 15  2P%       3038 non-null   object\n",
            " 16  eFG%      3038 non-null   object\n",
            " 17  FT        3038 non-null   object\n",
            " 18  FTA       3038 non-null   object\n",
            " 19  FT%       3038 non-null   object\n",
            " 20  ORB       3038 non-null   object\n",
            " 21  DRB       3038 non-null   object\n",
            " 22  TRB       3038 non-null   object\n",
            " 23  AST       3038 non-null   object\n",
            " 24  STL       3038 non-null   object\n",
            " 25  BLK       3038 non-null   object\n",
            " 26  TOV       3038 non-null   object\n",
            " 27  PF        3038 non-null   object\n",
            " 28  PTS       3038 non-null   object\n",
            " 29  MPT       3038 non-null   object\n",
            " 30  PER       3038 non-null   object\n",
            " 31  TS%       3038 non-null   object\n",
            " 32  3PAr      3038 non-null   object\n",
            " 33  FTr       3038 non-null   object\n",
            " 34  ORB%      3038 non-null   object\n",
            " 35  DRB%      3038 non-null   object\n",
            " 36  TRB%      3038 non-null   object\n",
            " 37  AST%      3038 non-null   object\n",
            " 38  STL%      3038 non-null   object\n",
            " 39  BLK%      3038 non-null   object\n",
            " 40  TOV%      3038 non-null   object\n",
            " 41  USG%      3038 non-null   object\n",
            " 42  OWS       3038 non-null   object\n",
            " 43  DWS       3038 non-null   object\n",
            " 44  WS        3038 non-null   object\n",
            " 45  WS/48     3038 non-null   object\n",
            " 46  OBPM      3038 non-null   object\n",
            " 47  DBPM      3038 non-null   object\n",
            " 48  BPM       3038 non-null   object\n",
            " 49  VORP      3038 non-null   object\n",
            " 50  END_YEAR  3038 non-null   object\n",
            "dtypes: object(51)\n",
            "memory usage: 1.2+ MB\n"
          ],
          "name": "stdout"
        }
      ]
    },
    {
      "cell_type": "markdown",
      "metadata": {
        "id": "pyD0qnu-vzzF",
        "colab_type": "text"
      },
      "source": [
        "The second dataset I wa"
      ]
    }
  ]
}